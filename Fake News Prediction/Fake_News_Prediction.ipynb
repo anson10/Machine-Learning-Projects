{
 "cells": [
  {
   "cell_type": "markdown",
   "id": "b2aa422a",
   "metadata": {},
   "source": [
    "# DATASET DESCRIPTION\n",
    "\n",
    "<b>About the Dataset:</b>\n",
    "\n",
    "1. id: unique id for a news article\n",
    "2. title: the title of a news article\n",
    "3. author: author of the news article\n",
    "4. text: the text of the article; could be incomplete\n",
    "5. label: a label that marks whether the news article is real or fake:\n",
    "\n",
    "    `1: Fake News`\n",
    "    `0: Real News`"
   ]
  },
  {
   "cell_type": "code",
   "execution_count": null,
   "id": "692a60e0",
   "metadata": {},
   "outputs": [],
   "source": [
    "# IMPORTING the NECESSARY MODULES\n",
    "\n",
    "import numpy as np\n",
    "import pandas as pd\n",
    "import re\n",
    "from sklearn.feature_extraction.text import TfidfVectorizer\n",
    "from nltk.corpus import stopwords \n",
    "from nltk.stem.porter import PorterStemmer\n",
    "\n"
   ]
  },
  {
   "cell_type": "code",
   "execution_count": null,
   "id": "9466c3be",
   "metadata": {},
   "outputs": [],
   "source": [
    "import nltk\n",
    "nltk.download('stopwords')"
   ]
  },
  {
   "cell_type": "code",
   "execution_count": null,
   "id": "36eb80c7",
   "metadata": {},
   "outputs": [],
   "source": [
    "# CHECKING THE STOPWORDS\n",
    "print(stopwords.words(\"english\"))"
   ]
  },
  {
   "cell_type": "markdown",
   "id": "c73de193",
   "metadata": {},
   "source": [
    "## PRE-PROCESSING THE DATA"
   ]
  },
  {
   "cell_type": "code",
   "execution_count": null,
   "id": "7b22df94",
   "metadata": {},
   "outputs": [],
   "source": [
    "news_df = pd.read_csv('train.csv')"
   ]
  },
  {
   "cell_type": "code",
   "execution_count": null,
   "id": "9aeada78",
   "metadata": {},
   "outputs": [],
   "source": [
    "news_df.head()"
   ]
  },
  {
   "cell_type": "code",
   "execution_count": null,
   "id": "6edab3f5",
   "metadata": {},
   "outputs": [],
   "source": [
    "news_df.shape"
   ]
  },
  {
   "cell_type": "code",
   "execution_count": null,
   "id": "4ec2280f",
   "metadata": {},
   "outputs": [],
   "source": [
    "# CHECKING MISSING VALUES\n",
    "\n",
    "news_df.isnull().sum()"
   ]
  },
  {
   "cell_type": "code",
   "execution_count": null,
   "id": "7c4bc29c",
   "metadata": {},
   "outputs": [],
   "source": [
    "# ADDING EMPTY STRINGS TO NULL VALUES\n",
    "\n",
    "news_df = news_df.fillna('')"
   ]
  },
  {
   "cell_type": "code",
   "execution_count": null,
   "id": "12320c6b",
   "metadata": {},
   "outputs": [],
   "source": [
    "news_df.isnull().sum()"
   ]
  },
  {
   "cell_type": "code",
   "execution_count": null,
   "id": "00e987a5",
   "metadata": {},
   "outputs": [],
   "source": [
    "# MERGING OF AUTHOR NAME AND TITLE\n",
    "\n",
    "news_df['content'] = news_df['author']+' '+news_df['title']"
   ]
  },
  {
   "cell_type": "code",
   "execution_count": null,
   "id": "0e7661b0",
   "metadata": {},
   "outputs": [],
   "source": [
    "# SEPERATION OF DATA\n",
    "X = news_df.drop('label', axis=1)\n",
    "y = news_df['label']"
   ]
  },
  {
   "cell_type": "markdown",
   "id": "c258cbec",
   "metadata": {},
   "source": [
    "### STEMMING OF DATA:\n",
    "\n",
    "##### DEFINITION:\n",
    "\n",
    "Stemming involves reducing words to their base or root form. For example, words like \"running,\" \"ran,\" and \"runner\" would all be reduced to the stem \"run.\""
   ]
  },
  {
   "cell_type": "code",
   "execution_count": null,
   "id": "c4e0ac47",
   "metadata": {},
   "outputs": [],
   "source": [
    "port_stem = PorterStemmer()"
   ]
  },
  {
   "cell_type": "code",
   "execution_count": null,
   "id": "95ccae16",
   "metadata": {},
   "outputs": [],
   "source": [
    "def stem_data(content):\n",
    "    stemmed_data = re.sub('[^a-zA-z]', ' ', content)\n",
    "    stemmed_data = stemmed_data.lower()\n",
    "    stemmed_data = stemmed_data.split()\n",
    "    stemmed_data = [port_stem.stem(word) for word in stemmed_data if not word in stopwords.words('english')]\n",
    "    stemmed_data = ' '.join(stemmed_data)\n",
    "    \n",
    "    return stemmed_data\n",
    "    "
   ]
  },
  {
   "cell_type": "code",
   "execution_count": null,
   "id": "5e6d9746",
   "metadata": {},
   "outputs": [],
   "source": [
    "news_df['content'] = news_df['content'].apply(stem_data)"
   ]
  },
  {
   "cell_type": "code",
   "execution_count": null,
   "id": "6a261cab",
   "metadata": {},
   "outputs": [],
   "source": [
    "news_df['content']"
   ]
  },
  {
   "cell_type": "code",
   "execution_count": null,
   "id": "0b4d845e",
   "metadata": {},
   "outputs": [],
   "source": [
    "X = news_df['content'].values\n",
    "y = news_df['label'].values"
   ]
  },
  {
   "cell_type": "code",
   "execution_count": null,
   "id": "e103628f",
   "metadata": {},
   "outputs": [],
   "source": [
    "# CONVERTING THE TEXTUAL DATA TO NUMERICAL DATA\n",
    "\n",
    "vectoriser = TfidfVectorizer()\n",
    "vectoriser.fit(X)\n",
    "\n",
    "X = vectoriser.transform(X)"
   ]
  },
  {
   "cell_type": "code",
   "execution_count": null,
   "id": "0f0f32bf",
   "metadata": {},
   "outputs": [],
   "source": [
    "print(y)"
   ]
  },
  {
   "cell_type": "code",
   "execution_count": null,
   "id": "3a785482",
   "metadata": {},
   "outputs": [],
   "source": [
    "# TRAIN AND TEST DATA\n",
    "from sklearn.model_selection import train_test_split\n",
    "\n",
    "X_train, X_test, y_train, y_test = train_test_split(X, y, test_size=0.2, \n",
    "                                                    stratify= y, random_state=42)"
   ]
  },
  {
   "cell_type": "code",
   "execution_count": null,
   "id": "6e3941f3",
   "metadata": {},
   "outputs": [],
   "source": [
    "# TRAINING THE MODEL\n",
    "\n",
    "from sklearn.linear_model import LogisticRegression\n",
    "\n",
    "lr_model = LogisticRegression()\n",
    "lr_model.fit(X_train, y_train)"
   ]
  },
  {
   "cell_type": "code",
   "execution_count": null,
   "id": "615191c1",
   "metadata": {},
   "outputs": [],
   "source": [
    "# EVALUTATION OF MODEL\n",
    "\n",
    "from sklearn.metrics import accuracy_score\n",
    "\n",
    "X_train_pred = lr_model.predict(X_train)\n",
    "training_data_acc = accuracy_score(X_train_pred, y_train)\n",
    "training_data_acc"
   ]
  },
  {
   "cell_type": "code",
   "execution_count": null,
   "id": "2ee01849",
   "metadata": {},
   "outputs": [],
   "source": [
    "X_test_pred = lr_model.predict(X_test)\n",
    "test_data_acc = accuracy_score(X_test_pred, y_test)\n",
    "test_data_acc"
   ]
  },
  {
   "cell_type": "markdown",
   "id": "1d0c5a62",
   "metadata": {},
   "source": [
    "### EVALUATING 'test.csv' DATA"
   ]
  },
  {
   "cell_type": "code",
   "execution_count": null,
   "id": "db98ed07",
   "metadata": {},
   "outputs": [],
   "source": [
    "test_df = pd.read_csv('test.csv')"
   ]
  },
  {
   "cell_type": "code",
   "execution_count": null,
   "id": "8e081922",
   "metadata": {},
   "outputs": [],
   "source": [
    "test_df.shape"
   ]
  },
  {
   "cell_type": "code",
   "execution_count": null,
   "id": "df6567be",
   "metadata": {},
   "outputs": [],
   "source": [
    "test_df.head()"
   ]
  },
  {
   "cell_type": "code",
   "execution_count": null,
   "id": "d753bb6d",
   "metadata": {},
   "outputs": [],
   "source": [
    "test_df.isnull().sum()"
   ]
  },
  {
   "cell_type": "code",
   "execution_count": null,
   "id": "e2b549fc",
   "metadata": {},
   "outputs": [],
   "source": [
    "# PREPROCESSING THE TEST DATA"
   ]
  },
  {
   "cell_type": "code",
   "execution_count": null,
   "id": "e4fdc877",
   "metadata": {},
   "outputs": [],
   "source": [
    "test_df = test_df.fillna(\" \")"
   ]
  },
  {
   "cell_type": "code",
   "execution_count": null,
   "id": "959ab8a6",
   "metadata": {},
   "outputs": [],
   "source": [
    "test_df['content'] = test_df['author']+ ' ' + test_df['title']"
   ]
  },
  {
   "cell_type": "code",
   "execution_count": null,
   "id": "76b1f032",
   "metadata": {},
   "outputs": [],
   "source": [
    "test_df['content']"
   ]
  },
  {
   "cell_type": "code",
   "execution_count": null,
   "id": "6cd38ff9",
   "metadata": {},
   "outputs": [],
   "source": [
    "test_df['content'] = test_df['content'].apply(stem_data)\n"
   ]
  },
  {
   "cell_type": "code",
   "execution_count": null,
   "id": "6c692582",
   "metadata": {},
   "outputs": [],
   "source": [
    "test_data_final = test_df['content'].values\n",
    "test_data_final = vectoriser.transform(test_data_final)\n"
   ]
  },
  {
   "cell_type": "code",
   "execution_count": null,
   "id": "f173a2f9",
   "metadata": {},
   "outputs": [],
   "source": [
    "# LOADING THE LABELS COLUMNS FOR TEST DATA\n",
    "test_df_labels = pd.read_csv('submit.csv')"
   ]
  },
  {
   "cell_type": "code",
   "execution_count": null,
   "id": "44659352",
   "metadata": {},
   "outputs": [],
   "source": [
    "y_val_labels = test_df_labels['label'].values"
   ]
  },
  {
   "cell_type": "code",
   "execution_count": null,
   "id": "84f3ec61",
   "metadata": {},
   "outputs": [],
   "source": [
    "y_vals_final_pred = lr_model.predict(test_data_final)\n"
   ]
  },
  {
   "cell_type": "code",
   "execution_count": null,
   "id": "dcaf775d",
   "metadata": {},
   "outputs": [],
   "source": [
    "test_df_acc_score = accuracy_score(y_val_labels, y_vals_final_pred)"
   ]
  }
 ],
 "metadata": {
  "kernelspec": {
   "display_name": "Python 3 (ipykernel)",
   "language": "python",
   "name": "python3"
  },
  "language_info": {
   "codemirror_mode": {
    "name": "ipython",
    "version": 3
   },
   "file_extension": ".py",
   "mimetype": "text/x-python",
   "name": "python",
   "nbconvert_exporter": "python",
   "pygments_lexer": "ipython3",
   "version": "3.10.13"
  }
 },
 "nbformat": 4,
 "nbformat_minor": 5
}
