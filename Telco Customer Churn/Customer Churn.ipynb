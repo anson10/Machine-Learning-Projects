{
 "cells": [
  {
   "cell_type": "markdown",
   "id": "bae43bae",
   "metadata": {},
   "source": [
    "## GOAL: Create a model to predict whether or not a customer will Churn ."
   ]
  },
  {
   "cell_type": "code",
   "execution_count": null,
   "id": "04ebfb5e",
   "metadata": {},
   "outputs": [],
   "source": [
    "# IMPORTING NECESSARY PROJECTS\n",
    "import numpy as np\n",
    "import pandas as pd\n",
    "import matplotlib.pyplot as plt\n",
    "import seaborn as sns"
   ]
  },
  {
   "cell_type": "code",
   "execution_count": null,
   "id": "83654387",
   "metadata": {},
   "outputs": [],
   "source": [
    "df = pd.read_csv('Telco-Customer-Churn.csv')"
   ]
  },
  {
   "cell_type": "code",
   "execution_count": null,
   "id": "9cc89818",
   "metadata": {},
   "outputs": [],
   "source": [
    "df.head()"
   ]
  },
  {
   "cell_type": "code",
   "execution_count": null,
   "id": "3e4303c4",
   "metadata": {},
   "outputs": [],
   "source": [
    "# INSPECTING THE DATA\n",
    "df.info()"
   ]
  },
  {
   "cell_type": "code",
   "execution_count": null,
   "id": "6cca13cc",
   "metadata": {},
   "outputs": [],
   "source": [
    "# STATISTICAL SUMMARY OF DATA"
   ]
  },
  {
   "cell_type": "code",
   "execution_count": null,
   "id": "88bb67ed",
   "metadata": {},
   "outputs": [],
   "source": [
    "df.describe().T"
   ]
  },
  {
   "cell_type": "code",
   "execution_count": null,
   "id": "136835dc",
   "metadata": {},
   "outputs": [],
   "source": [
    "# EDA - EXPLORATORY DATA ANALYSIS"
   ]
  },
  {
   "cell_type": "code",
   "execution_count": null,
   "id": "af6bbcf1",
   "metadata": {},
   "outputs": [],
   "source": [
    "# CHECKING NULL VALUES\n",
    "\n",
    "df.isnull().sum()"
   ]
  },
  {
   "cell_type": "code",
   "execution_count": null,
   "id": "34fbecc9",
   "metadata": {},
   "outputs": [],
   "source": [
    "# PLOTTING THE TARGET VALUE (Churn) WITH A COUNT PLOT\n",
    "\n",
    "sns.countplot(data=df, x='Churn');"
   ]
  },
  {
   "cell_type": "code",
   "execution_count": null,
   "id": "095e52a2",
   "metadata": {},
   "outputs": [],
   "source": [
    "str = \"Distrbution of TotalCharges between Churn categories with a Box Plot\"\n",
    "str.upper()"
   ]
  },
  {
   "cell_type": "code",
   "execution_count": null,
   "id": "b181ef5e",
   "metadata": {},
   "outputs": [],
   "source": [
    "## DISTRBUTION OF TOTALCHARGES BETWEEN CHURN CATEGORIES WITH A BOX PLOT\n",
    "\n",
    "sns.violinplot(data =df, x=\"Churn\", y=\"TotalCharges\")"
   ]
  },
  {
   "cell_type": "code",
   "execution_count": null,
   "id": "248bab45",
   "metadata": {},
   "outputs": [],
   "source": [
    "# BOX PLOT - DISTRIBUTION OF TOTAL CHARGES PER CONTRACT TYPE\n",
    "plt.figure(figsize=(14, 8), dpi =200)\n",
    "sns.boxplot(data=df, x = \"Contract\", y = \"TotalCharges\", hue='Churn')\n",
    "plt.legend(loc=(1, 1))"
   ]
  },
  {
   "cell_type": "code",
   "execution_count": null,
   "id": "5eeca0e9",
   "metadata": {},
   "outputs": [],
   "source": [
    "# BAR PLOT SHOWING THE CORRELATION\n",
    "\n",
    "df.columns"
   ]
  },
  {
   "cell_type": "code",
   "execution_count": null,
   "id": "5cb7e2cc",
   "metadata": {},
   "outputs": [],
   "source": [
    "corr_df  = pd.get_dummies(df[['gender', 'SeniorCitizen', 'Partner', 'Dependents','PhoneService', 'MultipleLines', 'InternetService',\n",
    "       'OnlineSecurity', 'OnlineBackup', 'DeviceProtection', 'TechSupport','StreamingTV', 'StreamingMovies', 'Contract', 'PaperlessBilling',\n",
    "       'PaymentMethod','Churn']]).corr()"
   ]
  },
  {
   "cell_type": "code",
   "execution_count": null,
   "id": "bb5f57aa",
   "metadata": {},
   "outputs": [],
   "source": [
    "corr_df['Churn_Yes'].sort_values().iloc[1:-1]"
   ]
  },
  {
   "cell_type": "code",
   "execution_count": null,
   "id": "2a00bacd",
   "metadata": {},
   "outputs": [],
   "source": [
    "plt.figure(figsize=(14, 8), dpi=200)\n",
    "sns.barplot(x = corr_df['Churn_Yes'].sort_values().iloc[1:-1].index,\n",
    "           y = corr_df['Churn_Yes'].sort_values().iloc[1:-1].values)\n",
    "plt.xticks(rotation=90);"
   ]
  },
  {
   "cell_type": "code",
   "execution_count": null,
   "id": "e64ef5bc",
   "metadata": {},
   "outputs": [],
   "source": [
    "# CHURN ANALYSIS"
   ]
  },
  {
   "cell_type": "code",
   "execution_count": null,
   "id": "a11646dd",
   "metadata": {},
   "outputs": [],
   "source": [
    "df['Contract'].unique()"
   ]
  },
  {
   "cell_type": "code",
   "execution_count": null,
   "id": "2e41060c",
   "metadata": {},
   "outputs": [],
   "source": [
    "plt.figure(figsize=(14,6), dpi = 200)\n",
    "sns.histplot(data=df, x='tenure', bins=70)"
   ]
  },
  {
   "cell_type": "code",
   "execution_count": null,
   "id": "be0657c4",
   "metadata": {},
   "outputs": [],
   "source": [
    "plt.figure(figsize=(10,3),dpi=200)\n",
    "\n",
    "sns.displot(data=df, x=\"tenure\",bins=70, col=\"Contract\", row=\"Churn\");"
   ]
  },
  {
   "cell_type": "code",
   "execution_count": null,
   "id": "b3e2fa19",
   "metadata": {},
   "outputs": [],
   "source": [
    "# SCATTER PLOT - TOTAL CHARGES VS MONTHLY CHARGES\n",
    "plt.figure(figsize=(10,4),dpi=200)\n",
    "sns.scatterplot(data=df, x=\"MonthlyCharges\", y=\"TotalCharges\", hue='Churn',\n",
    "               linewidth=0.5, palette=\"Dark2\",alpha=0.5)"
   ]
  },
  {
   "cell_type": "code",
   "execution_count": null,
   "id": "6024e9bf",
   "metadata": {},
   "outputs": [],
   "source": [
    "# CREATING COHORTS BASED ON TENURE"
   ]
  },
  {
   "cell_type": "code",
   "execution_count": null,
   "id": "dccee48c",
   "metadata": {},
   "outputs": [],
   "source": [
    "no_churn = df.groupby(['Churn','tenure']).count().transpose()['No']\n",
    "yes_churn = df.groupby(['Churn','tenure']).count().transpose()['Yes']"
   ]
  },
  {
   "cell_type": "code",
   "execution_count": null,
   "id": "280f034b",
   "metadata": {},
   "outputs": [],
   "source": [
    "churn_rate = 100 * yes_churn / (no_churn+yes_churn)"
   ]
  },
  {
   "cell_type": "code",
   "execution_count": null,
   "id": "fc6cd62e",
   "metadata": {},
   "outputs": [],
   "source": [
    "churn_rate.transpose()['customerID']"
   ]
  },
  {
   "cell_type": "code",
   "execution_count": null,
   "id": "cffff917",
   "metadata": {},
   "outputs": [],
   "source": [
    "plt.figure(figsize=(10,4),dpi=200)\n",
    "churn_rate.iloc[0].plot()\n",
    "plt.ylabel('Churn Percentage');"
   ]
  },
  {
   "cell_type": "code",
   "execution_count": null,
   "id": "f3b72f86",
   "metadata": {},
   "outputs": [],
   "source": [
    "## BROADER COHORT GROUPS\n",
    "\n",
    "def cohort(tenure):\n",
    "    if tenure < 13:\n",
    "        return '0-12 Months'\n",
    "    elif tenure < 25:\n",
    "        return '12-24 Months'\n",
    "    elif tenure < 49:\n",
    "        return '24-48 Months'\n",
    "    else:\n",
    "        return \"Over 48 Months\""
   ]
  },
  {
   "cell_type": "code",
   "execution_count": null,
   "id": "ce6258ee",
   "metadata": {},
   "outputs": [],
   "source": [
    "df['Tenure Cohort'] = df['tenure'].apply(cohort)"
   ]
  },
  {
   "cell_type": "code",
   "execution_count": null,
   "id": "8264af6d",
   "metadata": {},
   "outputs": [],
   "source": [
    "df.head(10)[['tenure','Tenure Cohort']]"
   ]
  },
  {
   "cell_type": "code",
   "execution_count": null,
   "id": "1e603ae2",
   "metadata": {},
   "outputs": [],
   "source": [
    "## SCATTER PLOT - TOTAL CHARGES VS MONTHLY CHARTS \n",
    "\n",
    "plt.figure(figsize=(10,4),dpi=200)\n",
    "sns.scatterplot(data=df,x='MonthlyCharges',y='TotalCharges',hue='Tenure Cohort', linewidth=0.5,alpha=0.5,palette='Dark2')"
   ]
  },
  {
   "cell_type": "code",
   "execution_count": null,
   "id": "679b7654",
   "metadata": {},
   "outputs": [],
   "source": [
    "plt.figure(figsize=(10,4),dpi=200)\n",
    "sns.countplot(data=df,x='Tenure Cohort',hue='Churn')"
   ]
  },
  {
   "cell_type": "code",
   "execution_count": null,
   "id": "fa6b580f",
   "metadata": {},
   "outputs": [],
   "source": [
    "plt.figure(figsize=(10,4),dpi=200)\n",
    "sns.catplot(data=df,x='Tenure Cohort',hue='Churn',col='Contract',kind='count')"
   ]
  },
  {
   "cell_type": "code",
   "execution_count": null,
   "id": "2f8fcb58",
   "metadata": {},
   "outputs": [],
   "source": [
    "## CREATING THE MODEL "
   ]
  },
  {
   "cell_type": "code",
   "execution_count": null,
   "id": "2e2ed081",
   "metadata": {},
   "outputs": [],
   "source": [
    "# DECISION TREE\n",
    "\n",
    "X = df.drop(['Churn', 'customerID'], axis=1)\n",
    "X = pd.get_dummies(X, drop_first=True)"
   ]
  },
  {
   "cell_type": "code",
   "execution_count": null,
   "id": "1ed7dae7",
   "metadata": {},
   "outputs": [],
   "source": [
    "y = df['Churn']"
   ]
  },
  {
   "cell_type": "code",
   "execution_count": null,
   "id": "19541d99",
   "metadata": {},
   "outputs": [],
   "source": [
    "from sklearn.model_selection import train_test_split"
   ]
  },
  {
   "cell_type": "code",
   "execution_count": null,
   "id": "379630c0",
   "metadata": {},
   "outputs": [],
   "source": [
    "X_train, X_test, y_train, y_test = train_test_split(X, y, test_size=0.1,\n",
    "                                                   random_state=42)"
   ]
  },
  {
   "cell_type": "code",
   "execution_count": null,
   "id": "333537f8",
   "metadata": {},
   "outputs": [],
   "source": [
    "from sklearn.tree import DecisionTreeClassifier\n",
    "\n",
    "dt_model = DecisionTreeClassifier(max_depth = 6)\n",
    "dt_model.fit(X_train, y_train)\n",
    "\n"
   ]
  },
  {
   "cell_type": "code",
   "execution_count": null,
   "id": "164c40db",
   "metadata": {},
   "outputs": [],
   "source": [
    "preds_dt = dt_model.predict(X_test)"
   ]
  },
  {
   "cell_type": "code",
   "execution_count": null,
   "id": "44fa08d0",
   "metadata": {},
   "outputs": [],
   "source": [
    "from sklearn.metrics import accuracy_score,classification_report"
   ]
  },
  {
   "cell_type": "code",
   "execution_count": null,
   "id": "1fd9365e",
   "metadata": {},
   "outputs": [],
   "source": [
    "print(classification_report(y_test, preds_dt))"
   ]
  },
  {
   "cell_type": "code",
   "execution_count": null,
   "id": "213c6bf5",
   "metadata": {},
   "outputs": [],
   "source": [
    "imp_feats = pd.DataFrame(data=dt_model.feature_importances_,index=X.columns,columns=['Feature Importance']).sort_values(\"Feature Importance\")"
   ]
  },
  {
   "cell_type": "code",
   "execution_count": null,
   "id": "b1c5f1f0",
   "metadata": {},
   "outputs": [],
   "source": [
    "plt.figure(figsize=(14,6),dpi=200)\n",
    "sns.barplot(data=imp_feats.sort_values('Feature Importance'),x=imp_feats.sort_values('Feature Importance').index,y='Feature Importance')\n",
    "plt.xticks(rotation=90)\n",
    "plt.title(\"Feature Importance for Decision Tree\");"
   ]
  },
  {
   "cell_type": "code",
   "execution_count": null,
   "id": "e5d9fe32",
   "metadata": {},
   "outputs": [],
   "source": [
    "from sklearn.tree import plot_tree"
   ]
  },
  {
   "cell_type": "code",
   "execution_count": null,
   "id": "c73e1f4e",
   "metadata": {},
   "outputs": [],
   "source": [
    "plt.figure(figsize=(12,8),dpi=500)\n",
    "plot_tree(dt_model,filled=True);"
   ]
  },
  {
   "cell_type": "code",
   "execution_count": null,
   "id": "df1ab5f0",
   "metadata": {},
   "outputs": [],
   "source": [
    "# RANDOM FOREST\n",
    "\n",
    "from sklearn.ensemble import RandomForestClassifier\n",
    "\n",
    "rf = RandomForestClassifier(n_estimators=100)\n",
    "rf.fit(X_train,y_train)\n",
    "\n",
    "preds_rf = rf.predict(X_test)"
   ]
  },
  {
   "cell_type": "code",
   "execution_count": null,
   "id": "48d25067",
   "metadata": {},
   "outputs": [],
   "source": [
    "print(classification_report(y_test,preds_rf))"
   ]
  },
  {
   "cell_type": "code",
   "execution_count": null,
   "id": "33db044a",
   "metadata": {},
   "outputs": [],
   "source": [
    "## BOOSTED TREES\n",
    "\n",
    "from sklearn.ensemble import GradientBoostingClassifier,AdaBoostClassifier"
   ]
  },
  {
   "cell_type": "code",
   "execution_count": null,
   "id": "2b51cb57",
   "metadata": {},
   "outputs": [],
   "source": [
    "ada_model = AdaBoostClassifier()\n",
    "\n",
    "ada_model.fit(X_train,y_train)"
   ]
  },
  {
   "cell_type": "code",
   "execution_count": null,
   "id": "637a76eb",
   "metadata": {},
   "outputs": [],
   "source": [
    "preds_ab = ada_model.predict(X_test)"
   ]
  },
  {
   "cell_type": "code",
   "execution_count": null,
   "id": "291eb06f",
   "metadata": {},
   "outputs": [],
   "source": [
    "print(classification_report(y_test,preds_ab))"
   ]
  },
  {
   "cell_type": "code",
   "execution_count": null,
   "id": "da697f29",
   "metadata": {},
   "outputs": [],
   "source": []
  }
 ],
 "metadata": {
  "kernelspec": {
   "display_name": "Python 3 (ipykernel)",
   "language": "python",
   "name": "python3"
  },
  "language_info": {
   "codemirror_mode": {
    "name": "ipython",
    "version": 3
   },
   "file_extension": ".py",
   "mimetype": "text/x-python",
   "name": "python",
   "nbconvert_exporter": "python",
   "pygments_lexer": "ipython3",
   "version": "3.10.13"
  }
 },
 "nbformat": 4,
 "nbformat_minor": 5
}
